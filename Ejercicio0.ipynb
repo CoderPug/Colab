{
  "nbformat": 4,
  "nbformat_minor": 0,
  "metadata": {
    "colab": {
      "name": "Ejercicio0.ipynb",
      "provenance": [],
      "authorship_tag": "ABX9TyMM5HocwJdkdWVIkYSysve2",
      "include_colab_link": true
    },
    "kernelspec": {
      "name": "python3",
      "display_name": "Python 3"
    }
  },
  "cells": [
    {
      "cell_type": "markdown",
      "metadata": {
        "id": "view-in-github",
        "colab_type": "text"
      },
      "source": [
        "<a href=\"https://colab.research.google.com/github/CoderPug/Colab/blob/main/Ejercicio0.ipynb\" target=\"_parent\"><img src=\"https://colab.research.google.com/assets/colab-badge.svg\" alt=\"Open In Colab\"/></a>"
      ]
    },
    {
      "cell_type": "markdown",
      "metadata": {
        "id": "QuOtjQa0B4n4"
      },
      "source": [
        "Samples from class"
      ]
    },
    {
      "cell_type": "markdown",
      "metadata": {
        "id": "v2m5dmcHDdY9"
      },
      "source": [
        "**1**"
      ]
    },
    {
      "cell_type": "code",
      "metadata": {
        "colab": {
          "base_uri": "https://localhost:8080/",
          "height": 200
        },
        "id": "RnM33PQ4Bg-7",
        "outputId": "3673e036-19a7-4e31-fa7e-74d1ae2afe70"
      },
      "source": [
        "import pandas as pd\r\n",
        "import statsmodels.api as sm\r\n",
        "\r\n",
        "url = 'https://raw.githubusercontent.com/AlejandroPSJ2/Data_Mining/main/Clase1_example1.csv'\r\n",
        "df = pd.read_csv(url)\r\n",
        "df.head()"
      ],
      "execution_count": 3,
      "outputs": [
        {
          "output_type": "execute_result",
          "data": {
            "text/html": [
              "<div>\n",
              "<style scoped>\n",
              "    .dataframe tbody tr th:only-of-type {\n",
              "        vertical-align: middle;\n",
              "    }\n",
              "\n",
              "    .dataframe tbody tr th {\n",
              "        vertical-align: top;\n",
              "    }\n",
              "\n",
              "    .dataframe thead th {\n",
              "        text-align: right;\n",
              "    }\n",
              "</style>\n",
              "<table border=\"1\" class=\"dataframe\">\n",
              "  <thead>\n",
              "    <tr style=\"text-align: right;\">\n",
              "      <th></th>\n",
              "      <th>N_pregnant</th>\n",
              "      <th>Plasma</th>\n",
              "      <th>Diastolic_pressure</th>\n",
              "      <th>Triceps_thickness</th>\n",
              "      <th>Serum_insulin</th>\n",
              "      <th>BMI</th>\n",
              "      <th>Diabetes_function</th>\n",
              "      <th>Age</th>\n",
              "      <th>Diabetes_future</th>\n",
              "    </tr>\n",
              "  </thead>\n",
              "  <tbody>\n",
              "    <tr>\n",
              "      <th>0</th>\n",
              "      <td>6</td>\n",
              "      <td>148</td>\n",
              "      <td>72</td>\n",
              "      <td>35</td>\n",
              "      <td>0</td>\n",
              "      <td>33.6</td>\n",
              "      <td>0.627</td>\n",
              "      <td>50</td>\n",
              "      <td>1</td>\n",
              "    </tr>\n",
              "    <tr>\n",
              "      <th>1</th>\n",
              "      <td>1</td>\n",
              "      <td>85</td>\n",
              "      <td>66</td>\n",
              "      <td>29</td>\n",
              "      <td>0</td>\n",
              "      <td>26.6</td>\n",
              "      <td>0.351</td>\n",
              "      <td>31</td>\n",
              "      <td>0</td>\n",
              "    </tr>\n",
              "    <tr>\n",
              "      <th>2</th>\n",
              "      <td>8</td>\n",
              "      <td>183</td>\n",
              "      <td>64</td>\n",
              "      <td>0</td>\n",
              "      <td>0</td>\n",
              "      <td>23.3</td>\n",
              "      <td>0.672</td>\n",
              "      <td>32</td>\n",
              "      <td>1</td>\n",
              "    </tr>\n",
              "    <tr>\n",
              "      <th>3</th>\n",
              "      <td>1</td>\n",
              "      <td>89</td>\n",
              "      <td>66</td>\n",
              "      <td>23</td>\n",
              "      <td>94</td>\n",
              "      <td>28.1</td>\n",
              "      <td>0.167</td>\n",
              "      <td>21</td>\n",
              "      <td>0</td>\n",
              "    </tr>\n",
              "    <tr>\n",
              "      <th>4</th>\n",
              "      <td>0</td>\n",
              "      <td>137</td>\n",
              "      <td>40</td>\n",
              "      <td>35</td>\n",
              "      <td>168</td>\n",
              "      <td>43.1</td>\n",
              "      <td>2.288</td>\n",
              "      <td>33</td>\n",
              "      <td>1</td>\n",
              "    </tr>\n",
              "  </tbody>\n",
              "</table>\n",
              "</div>"
            ],
            "text/plain": [
              "   N_pregnant  Plasma  ...  Age  Diabetes_future\n",
              "0           6     148  ...   50                1\n",
              "1           1      85  ...   31                0\n",
              "2           8     183  ...   32                1\n",
              "3           1      89  ...   21                0\n",
              "4           0     137  ...   33                1\n",
              "\n",
              "[5 rows x 9 columns]"
            ]
          },
          "metadata": {
            "tags": []
          },
          "execution_count": 3
        }
      ]
    },
    {
      "cell_type": "code",
      "metadata": {
        "colab": {
          "base_uri": "https://localhost:8080/",
          "height": 200
        },
        "id": "6KZa0Sh0CGzD",
        "outputId": "b3e10c03-d6a5-4c80-84a2-f98546a26ebc"
      },
      "source": [
        "dfx = df.copy()\r\n",
        "dfx = dfx.drop(columns='Diabetes_future',axis=1)\r\n",
        "dfx.head()\r\n"
      ],
      "execution_count": 4,
      "outputs": [
        {
          "output_type": "execute_result",
          "data": {
            "text/html": [
              "<div>\n",
              "<style scoped>\n",
              "    .dataframe tbody tr th:only-of-type {\n",
              "        vertical-align: middle;\n",
              "    }\n",
              "\n",
              "    .dataframe tbody tr th {\n",
              "        vertical-align: top;\n",
              "    }\n",
              "\n",
              "    .dataframe thead th {\n",
              "        text-align: right;\n",
              "    }\n",
              "</style>\n",
              "<table border=\"1\" class=\"dataframe\">\n",
              "  <thead>\n",
              "    <tr style=\"text-align: right;\">\n",
              "      <th></th>\n",
              "      <th>N_pregnant</th>\n",
              "      <th>Plasma</th>\n",
              "      <th>Diastolic_pressure</th>\n",
              "      <th>Triceps_thickness</th>\n",
              "      <th>Serum_insulin</th>\n",
              "      <th>BMI</th>\n",
              "      <th>Diabetes_function</th>\n",
              "      <th>Age</th>\n",
              "    </tr>\n",
              "  </thead>\n",
              "  <tbody>\n",
              "    <tr>\n",
              "      <th>0</th>\n",
              "      <td>6</td>\n",
              "      <td>148</td>\n",
              "      <td>72</td>\n",
              "      <td>35</td>\n",
              "      <td>0</td>\n",
              "      <td>33.6</td>\n",
              "      <td>0.627</td>\n",
              "      <td>50</td>\n",
              "    </tr>\n",
              "    <tr>\n",
              "      <th>1</th>\n",
              "      <td>1</td>\n",
              "      <td>85</td>\n",
              "      <td>66</td>\n",
              "      <td>29</td>\n",
              "      <td>0</td>\n",
              "      <td>26.6</td>\n",
              "      <td>0.351</td>\n",
              "      <td>31</td>\n",
              "    </tr>\n",
              "    <tr>\n",
              "      <th>2</th>\n",
              "      <td>8</td>\n",
              "      <td>183</td>\n",
              "      <td>64</td>\n",
              "      <td>0</td>\n",
              "      <td>0</td>\n",
              "      <td>23.3</td>\n",
              "      <td>0.672</td>\n",
              "      <td>32</td>\n",
              "    </tr>\n",
              "    <tr>\n",
              "      <th>3</th>\n",
              "      <td>1</td>\n",
              "      <td>89</td>\n",
              "      <td>66</td>\n",
              "      <td>23</td>\n",
              "      <td>94</td>\n",
              "      <td>28.1</td>\n",
              "      <td>0.167</td>\n",
              "      <td>21</td>\n",
              "    </tr>\n",
              "    <tr>\n",
              "      <th>4</th>\n",
              "      <td>0</td>\n",
              "      <td>137</td>\n",
              "      <td>40</td>\n",
              "      <td>35</td>\n",
              "      <td>168</td>\n",
              "      <td>43.1</td>\n",
              "      <td>2.288</td>\n",
              "      <td>33</td>\n",
              "    </tr>\n",
              "  </tbody>\n",
              "</table>\n",
              "</div>"
            ],
            "text/plain": [
              "   N_pregnant  Plasma  Diastolic_pressure  ...   BMI  Diabetes_function  Age\n",
              "0           6     148                  72  ...  33.6              0.627   50\n",
              "1           1      85                  66  ...  26.6              0.351   31\n",
              "2           8     183                  64  ...  23.3              0.672   32\n",
              "3           1      89                  66  ...  28.1              0.167   21\n",
              "4           0     137                  40  ...  43.1              2.288   33\n",
              "\n",
              "[5 rows x 8 columns]"
            ]
          },
          "metadata": {
            "tags": []
          },
          "execution_count": 4
        }
      ]
    },
    {
      "cell_type": "code",
      "metadata": {
        "colab": {
          "base_uri": "https://localhost:8080/"
        },
        "id": "FWOwiiCADKol",
        "outputId": "9364d66e-57c0-48b0-ea29-8f2b91419d8b"
      },
      "source": [
        "Y = df['Diabetes_future']\r\n",
        "X = dfx\r\n",
        "X = sm.add_constant(X)\r\n",
        "\r\n",
        "mod = sm.Logit(Y,X)\r\n",
        "res = mod.fit()"
      ],
      "execution_count": 5,
      "outputs": [
        {
          "output_type": "stream",
          "text": [
            "Optimization terminated successfully.\n",
            "         Current function value: 0.470993\n",
            "         Iterations 6\n"
          ],
          "name": "stdout"
        }
      ]
    },
    {
      "cell_type": "code",
      "metadata": {
        "colab": {
          "base_uri": "https://localhost:8080/"
        },
        "id": "ImBqW4tHDSQ4",
        "outputId": "5d5246ff-ccc7-4e26-bb76-aeac9415a646"
      },
      "source": [
        "print(res.summary())"
      ],
      "execution_count": 6,
      "outputs": [
        {
          "output_type": "stream",
          "text": [
            "                           Logit Regression Results                           \n",
            "==============================================================================\n",
            "Dep. Variable:        Diabetes_future   No. Observations:                  768\n",
            "Model:                          Logit   Df Residuals:                      759\n",
            "Method:                           MLE   Df Model:                            8\n",
            "Date:                Mon, 15 Feb 2021   Pseudo R-squ.:                  0.2718\n",
            "Time:                        04:57:45   Log-Likelihood:                -361.72\n",
            "converged:                       True   LL-Null:                       -496.74\n",
            "Covariance Type:            nonrobust   LLR p-value:                 9.652e-54\n",
            "======================================================================================\n",
            "                         coef    std err          z      P>|z|      [0.025      0.975]\n",
            "--------------------------------------------------------------------------------------\n",
            "const                 -8.4047      0.717    -11.728      0.000      -9.809      -7.000\n",
            "N_pregnant             0.1232      0.032      3.840      0.000       0.060       0.186\n",
            "Plasma                 0.0352      0.004      9.481      0.000       0.028       0.042\n",
            "Diastolic_pressure    -0.0133      0.005     -2.540      0.011      -0.024      -0.003\n",
            "Triceps_thickness      0.0006      0.007      0.090      0.929      -0.013       0.014\n",
            "Serum_insulin         -0.0012      0.001     -1.322      0.186      -0.003       0.001\n",
            "BMI                    0.0897      0.015      5.945      0.000       0.060       0.119\n",
            "Diabetes_function      0.9452      0.299      3.160      0.002       0.359       1.531\n",
            "Age                    0.0149      0.009      1.593      0.111      -0.003       0.033\n",
            "======================================================================================\n"
          ],
          "name": "stdout"
        }
      ]
    },
    {
      "cell_type": "markdown",
      "metadata": {
        "id": "MQGgiQEZDfLF"
      },
      "source": [
        "**2**"
      ]
    },
    {
      "cell_type": "code",
      "metadata": {
        "colab": {
          "base_uri": "https://localhost:8080/",
          "height": 200
        },
        "id": "3JR46z9NDf7n",
        "outputId": "be9dd5e8-33a2-41cf-f1e5-07d54516f2e1"
      },
      "source": [
        "import pandas as pd\r\n",
        "import statsmodels.api as sm\r\n",
        "url = 'https://raw.githubusercontent.com/AlejandroPSJ2/Data_Mining/main/Clase1_example2.csv'\r\n",
        "df = pd.read_csv(url,sep=';')\r\n",
        "\r\n",
        "df.head()"
      ],
      "execution_count": 8,
      "outputs": [
        {
          "output_type": "execute_result",
          "data": {
            "text/html": [
              "<div>\n",
              "<style scoped>\n",
              "    .dataframe tbody tr th:only-of-type {\n",
              "        vertical-align: middle;\n",
              "    }\n",
              "\n",
              "    .dataframe tbody tr th {\n",
              "        vertical-align: top;\n",
              "    }\n",
              "\n",
              "    .dataframe thead th {\n",
              "        text-align: right;\n",
              "    }\n",
              "</style>\n",
              "<table border=\"1\" class=\"dataframe\">\n",
              "  <thead>\n",
              "    <tr style=\"text-align: right;\">\n",
              "      <th></th>\n",
              "      <th>Week</th>\n",
              "      <th>PRICE 12PK</th>\n",
              "      <th>PRICE 18PK</th>\n",
              "      <th>PRICE 30PK</th>\n",
              "      <th>CASES 12PK</th>\n",
              "      <th>CASES 18PK</th>\n",
              "      <th>CASES 30PK</th>\n",
              "    </tr>\n",
              "  </thead>\n",
              "  <tbody>\n",
              "    <tr>\n",
              "      <th>0</th>\n",
              "      <td>1</td>\n",
              "      <td>19.98</td>\n",
              "      <td>14.10</td>\n",
              "      <td>15.19</td>\n",
              "      <td>223.5</td>\n",
              "      <td>439</td>\n",
              "      <td>55.00</td>\n",
              "    </tr>\n",
              "    <tr>\n",
              "      <th>1</th>\n",
              "      <td>2</td>\n",
              "      <td>19.98</td>\n",
              "      <td>18.65</td>\n",
              "      <td>15.19</td>\n",
              "      <td>215.0</td>\n",
              "      <td>98</td>\n",
              "      <td>66.75</td>\n",
              "    </tr>\n",
              "    <tr>\n",
              "      <th>2</th>\n",
              "      <td>3</td>\n",
              "      <td>19.98</td>\n",
              "      <td>18.65</td>\n",
              "      <td>13.87</td>\n",
              "      <td>227.5</td>\n",
              "      <td>70</td>\n",
              "      <td>242.00</td>\n",
              "    </tr>\n",
              "    <tr>\n",
              "      <th>3</th>\n",
              "      <td>4</td>\n",
              "      <td>19.98</td>\n",
              "      <td>18.65</td>\n",
              "      <td>12.83</td>\n",
              "      <td>244.5</td>\n",
              "      <td>52</td>\n",
              "      <td>488.50</td>\n",
              "    </tr>\n",
              "    <tr>\n",
              "      <th>4</th>\n",
              "      <td>5</td>\n",
              "      <td>19.98</td>\n",
              "      <td>18.65</td>\n",
              "      <td>13.16</td>\n",
              "      <td>313.5</td>\n",
              "      <td>64</td>\n",
              "      <td>308.75</td>\n",
              "    </tr>\n",
              "  </tbody>\n",
              "</table>\n",
              "</div>"
            ],
            "text/plain": [
              "   Week  PRICE 12PK  PRICE 18PK  PRICE 30PK  CASES 12PK  CASES 18PK  CASES 30PK\n",
              "0     1       19.98       14.10       15.19       223.5         439       55.00\n",
              "1     2       19.98       18.65       15.19       215.0          98       66.75\n",
              "2     3       19.98       18.65       13.87       227.5          70      242.00\n",
              "3     4       19.98       18.65       12.83       244.5          52      488.50\n",
              "4     5       19.98       18.65       13.16       313.5          64      308.75"
            ]
          },
          "metadata": {
            "tags": []
          },
          "execution_count": 8
        }
      ]
    },
    {
      "cell_type": "code",
      "metadata": {
        "colab": {
          "base_uri": "https://localhost:8080/"
        },
        "id": "NLyhsy_XDv0F",
        "outputId": "fd163e30-5a5a-47ed-ec2e-8688f5832e03"
      },
      "source": [
        "Y = df['CASES 30PK']\r\n",
        "X = df['PRICE 30PK']\r\n",
        "X = sm.add_constant(X)\r\n",
        "\r\n",
        "mod = sm.OLS(Y,X)\r\n",
        "res = mod.fit()\r\n",
        "\r\n",
        "print(res.summary())"
      ],
      "execution_count": 10,
      "outputs": [
        {
          "output_type": "stream",
          "text": [
            "                            OLS Regression Results                            \n",
            "==============================================================================\n",
            "Dep. Variable:             CASES 30PK   R-squared:                       0.651\n",
            "Model:                            OLS   Adj. R-squared:                  0.644\n",
            "Method:                 Least Squares   F-statistic:                     93.22\n",
            "Date:                Mon, 15 Feb 2021   Prob (F-statistic):           5.17e-13\n",
            "Time:                        05:00:19   Log-Likelihood:                -294.71\n",
            "No. Observations:                  52   AIC:                             593.4\n",
            "Df Residuals:                      50   BIC:                             597.3\n",
            "Df Model:                           1                                         \n",
            "Covariance Type:            nonrobust                                         \n",
            "==============================================================================\n",
            "                 coef    std err          t      P>|t|      [0.025      0.975]\n",
            "------------------------------------------------------------------------------\n",
            "const       1887.2558    178.648     10.564      0.000    1528.431    2246.081\n",
            "PRICE 30PK  -119.7708     12.405     -9.655      0.000    -144.687     -94.855\n",
            "==============================================================================\n",
            "Omnibus:                        9.964   Durbin-Watson:                   1.810\n",
            "Prob(Omnibus):                  0.007   Jarque-Bera (JB):               15.078\n",
            "Skew:                           0.548   Prob(JB):                     0.000532\n",
            "Kurtosis:                       5.400   Cond. No.                         261.\n",
            "==============================================================================\n",
            "\n",
            "Warnings:\n",
            "[1] Standard Errors assume that the covariance matrix of the errors is correctly specified.\n"
          ],
          "name": "stdout"
        }
      ]
    }
  ]
}